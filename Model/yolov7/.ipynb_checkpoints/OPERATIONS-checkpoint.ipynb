version https://git-lfs.github.com/spec/v1
oid sha256:60c760fc012ac6089f8a59183acea8035cbc5dd47e1d745fed77dfc40f9172d6
size 6701
