version https://git-lfs.github.com/spec/v1
oid sha256:02be6affe135dc0f9ae087b3f9a1643e3942ce5172c4d364e1601feb768cd4be
size 494024
